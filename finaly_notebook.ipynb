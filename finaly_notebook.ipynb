{
 "cells": [
  {
   "cell_type": "code",
   "execution_count": 2,
   "metadata": {},
   "outputs": [
    {
     "name": "stderr",
     "output_type": "stream",
     "text": [
      "Using TensorFlow backend.\n"
     ]
    }
   ],
   "source": [
    "import numpy as np\n",
    "import matplotlib.pyplot as plt\n",
    "import keras\n",
    "from keras.models import Sequential\n",
    "from keras.layers import Dense, Dropout, Activation, Flatten\n",
    "from keras.layers import Conv2D,MaxPooling2D"
   ]
  },
  {
   "cell_type": "markdown",
   "metadata": {},
   "source": [
    "# Методы нелинейной оптимизации\n",
    "Работа будет состоять из дву частей:\n",
    "1. Часть 1 - классические методы.\n",
    "2. Часть 2 - методы оптимизации в глубоком обучении."
   ]
  },
  {
   "cell_type": "markdown",
   "metadata": {},
   "source": [
    "## Часть 1. Оптимизация функции Кобба-Дугласа тремя типами методов"
   ]
  },
  {
   "cell_type": "markdown",
   "metadata": {},
   "source": [
    "Рассмотри задачу нелинейной регрессии на примере функции Кобба — Дугласа.\n",
    "Функция Кобба — Дугласа — производственная функция (или функция полезности), отражающая зависимость объёма производства $Q$ от создающих его факторов производства — затрат труда $L$ и капитала $K$.\n",
    "\n",
    "Впервые была предложена Кнутом Викселлем. В 1928 году функция проверена на статистических данных Чарльзом Коббом и Полом Дугласом в работе «Теория производства». В этой статье была предпринята попытка эмпирическим путём определить влияние затрачиваемого капитала и труда на объём выпускаемой продукции в обрабатывающей промышленности США.\n",
    "\n",
    "Общий вид функции:\n",
    "\n",
    "\\begin{equation*}\n",
    "Q(A,\\alpha,\\beta) = A\\cdot L^\\alpha \\cdot K^\\beta,\n",
    "\\end{equation*}\n",
    "где $A$ — технологический коэффициент, $\\alpha$ — коэффициент эластичности по труду, а $\\beta$ — коэффициент эластичности по капиталу.\n",
    "\n"
   ]
  },
  {
   "cell_type": "markdown",
   "metadata": {},
   "source": [
    "Предположим, наша задача - вычислить параматры $A,\\alpha, \\beta$ по имеющимся данным $Q, L, K$. Это типичная задача нелинейной регрессии. Для ее решения рассмотрим три типа методов:\n",
    "1. Методы нулевого порядка - знание о произодных не нужно.\n",
    "2. Методы первого порядка - знание о производной (градиенте) необходимо.\n",
    "3. Методы второго порядка - необходимы знания о второй производной (матрицы Гессе)\n",
    "\n",
    "В нашем случае рассмотрим следующие методы:\n",
    "1. Метод нулевого порядка: метод Нелдера-Мида.\n",
    "\n",
    "\n",
    "2. Методы первого порядка:\n",
    "\n",
    "    2.1 Градиентный спуск    \n",
    "    2.2 Метод нелинейного МНК\n",
    "    \n",
    "    \n",
    "3. Метод Ньютона-Рафсона.\n",
    "\n",
    "В качестве критерия оптимальности будем использовать все тот же квдаратичный критерий."
   ]
  },
  {
   "cell_type": "markdown",
   "metadata": {},
   "source": [
    "Для начала сгененируем данные самостоятельно (можно также воспользоваться реальными данными, но в данном случае это непринципиально). Пусть заранее известно, что $A=10, \\alpha=0.5, \\beta=1.5$"
   ]
  },
  {
   "cell_type": "code",
   "execution_count": 3,
   "metadata": {},
   "outputs": [],
   "source": [
    "A_true = 10\n",
    "alpha_true = 0.5\n",
    "beta_true = 1.5\n",
    "N = 100\n",
    "L = np.random.rand(N) + 1\n",
    "K = np.abs(np.random.randn(N))+1\n",
    "\n",
    "def Q(A,alpha,beta):\n",
    "    return A*(L**alpha)*(K**beta)\n",
    "Q_true = Q(A_true,alpha_true,beta_true) # Без шума\n",
    "Q_true_noise = Q_true + np.random.randn(N) # Шумом"
   ]
  },
  {
   "cell_type": "markdown",
   "metadata": {},
   "source": [
    "В итоге ставится регрессионная задача:\n",
    "$\\frac{1}{N} \\sum_{i=0}^{N} (A\\cdot L_i^\\alpha \\cdot K_i^\\beta - Q_i)^2 \\rightarrow min$"
   ]
  },
  {
   "cell_type": "code",
   "execution_count": 4,
   "metadata": {},
   "outputs": [],
   "source": [
    "def loss_(A,alpha,beta,Q_):\n",
    "    return np.mean((Q(A,alpha,beta) - Q_)**2)"
   ]
  },
  {
   "cell_type": "markdown",
   "metadata": {},
   "source": [
    "Все методы будут решать две задачи: поиск параметров при шуме и без. Таким образом, мы ожидаем максимально точной сходимости при отсуствии шума. Шум же возвращает нас к реальности "
   ]
  },
  {
   "cell_type": "markdown",
   "metadata": {},
   "source": [
    "### Метод нулевого порядка. Нелдер-Мид\n",
    "Метод Нелдера-Мида является популярным методом нулевого порядка.\n",
    "Метод является очень эффективным при негладких или сильно зашумленных функциях. Его эффективность высока особенно при количестве параметров не более 6. В нашем случае трех переменных этот метод должен показать свою эффективность. \n",
    "\n",
    "Основан на следующем алгоритме:\n",
    "\n",
    "Задаются три коэффициента:\n",
    "1. Коэффициент отражения $\\alpha >0$, обычно выбирается равным 1.\n",
    "2. Коэффициент сжатия $\\beta >0$, обычно выбирается равным 0.5.\n",
    "3. Коэффициент растяжения $\\gamma >0$, обычно выбирается равным 2.\n",
    "\n",
    "Далее непосредственно реализуем алгоритм Нелдера-Мид"
   ]
  },
  {
   "cell_type": "code",
   "execution_count": 5,
   "metadata": {},
   "outputs": [],
   "source": [
    "def NM_min(Q_true,A_init = 8,alpha_init = 0,beta_init = 0,step_simpl = 1.5, iters = 100):\n",
    "    al = 1#Коэффициент отражения\n",
    "    be = 0.5# Коэффициент сжатия\n",
    "    ga = 2#Коэффициент растяжения\n",
    "    X0 = np.array([A_init,alpha_init,beta_init])\n",
    "    \n",
    "    # Шаг 1. Точки симплекса\n",
    "    X1,X2,X3 = X0,X0,X0\n",
    "    X1 = X1 + step_simpl * np.array([1,0,0])\n",
    "    X2 = X2 + step_simpl * np.array([0,1,0])\n",
    "    X3 = X3 + step_simpl * np.array([0,0,1])\n",
    "    X = np.array([X0,X1,X2,X3])\n",
    "    loss = []\n",
    "      \n",
    "    for i in range(iters):\n",
    "        #Значение функции в точках симплекса\n",
    "        F = np.array([loss_(X[0][0],X[0][1],X[0][2],Q_true),loss_(X[1][0],X[1][1],X[1][2],Q_true),\n",
    "                      loss_(X[2][0],X[2][1],X[2][2],Q_true),loss_(X[3][0],X[3][1],X[3][2],Q_true)])\n",
    "\n",
    "        # Шаг 2. Три точки\n",
    "        \n",
    "        isorted = np.argsort(F)\n",
    "        h = isorted[-1]\n",
    "        Xh = X[h]# Максимум\n",
    "        Fh = F[h]\n",
    "        \n",
    "        g = isorted[-2]\n",
    "        Xg = X[g]# Следующий после максимума\n",
    "        Fg = F[g]\n",
    "\n",
    "        l = isorted[0]\n",
    "        Xl = X[l]# Минимум\n",
    "        Fl = F[l]\n",
    "\n",
    "        # Шаг 3. Центр тяжести\n",
    "       \n",
    "        Xc = np.zeros(3)\n",
    "        for j in range(4):\n",
    "            if j != h:\n",
    "                Xc = Xc + X[j]\n",
    "        Xc = 1/3 *Xc\n",
    "          \n",
    "        # Шаг 4. Отражение\n",
    "        Xr = (1+al)*Xc - al*Xh\n",
    "        Fr = loss_(Xr[0],Xr[1],Xr[2],Q_true)\n",
    "        \n",
    "        # Шаг 5. Что получилось?\n",
    "        if Fr < Fl:\n",
    "            Xe = (1-ga)*Xc + ga*Xr\n",
    "            Fe = loss_(Xe[0],Xe[1],Xe[2],Q_true)\n",
    "            if Fe < Fl:\n",
    "                X[h] = Xe\n",
    "                loss.append(loss_(Xl[0],Xl[1],Xl[2],Q_true))\n",
    "                continue\n",
    "            if Fl < Fe:\n",
    "                X[h] = Xr\n",
    "                loss.append(loss_(Xl[0],Xl[1],Xl[2],Q_true))\n",
    "                continue\n",
    "                \n",
    "        if (Fl < Fr) and (Fr < Fg):\n",
    "            X[h] = Xr\n",
    "            loss.append(loss_(Xl[0],Xl[1],Xl[2],Q_true))\n",
    "            continue\n",
    "        if (Fl < Fr) and (Fr > Fg):\n",
    "            pass\n",
    "            \n",
    "        if Fr > Fh:\n",
    "            # Шаг 6. Сжатие\n",
    "            Xs = be*Xh + (1-be)*Xc\n",
    "            Fs = loss_(Xs[0],Xs[1],Xs[2],Q_true)\n",
    "        if Fh > Fr:\n",
    "            X[h] = Xr\n",
    "            #Xr = Xh\n",
    "            #Xh = X[h]\n",
    "            Fh = Fr\n",
    "            Fr = F[h]\n",
    "            \n",
    "            Xs = be*Xr + (1-be)*Xc\n",
    "            Fs = loss_(Xs[0],Xs[1],Xs[2],Q_true)        \n",
    "        \n",
    "        if Fs < Fh:\n",
    "            X[h] = Xs\n",
    "            loss.append(loss_(Xl[0],Xl[1],Xl[2],Q_true))\n",
    "            continue\n",
    "        if Fs > Fh:\n",
    "            for j in range(4):\n",
    "                X[j] = Xl + (X[j] - Xl)/2\n",
    "            loss.append(loss_(Xl[0],Xl[1],Xl[2],Q_true))        \n",
    "    \n",
    "    \n",
    "    plt.plot(range(iters),loss,label=f\"Лосс при Нелдера-Мида\")\n",
    "    plt.grid()\n",
    "    plt.xlabel(\"Итерации\")\n",
    "    plt.ylabel(\"Лосс\")\n",
    "    plt.legend()\n",
    "    plt.show()\n",
    "    print(f\"Коэффициенты при Нелдера-Мида. A = {Xl[0]:.{4}f}, alpha = {Xl[1]:.{4}f}, beta = {Xl[2]:.{4}f}\")\n",
    "    print(f\"Конечный лосс при Нелдера-Мида: {loss_(Xl[0],Xl[1],Xl[2],Q_true)}\")    "
   ]
  },
  {
   "cell_type": "markdown",
   "metadata": {},
   "source": [
    "Результаты"
   ]
  },
  {
   "cell_type": "code",
   "execution_count": 6,
   "metadata": {},
   "outputs": [
    {
     "name": "stdout",
     "output_type": "stream",
     "text": [
      "Шума нет:\n"
     ]
    },
    {
     "data": {
      "image/png": "[encoded data removed]",
      "text/plain": [
       "<Figure size 432x288 with 1 Axes>"
      ]
     },
     "metadata": {
      "needs_background": "light"
     },
     "output_type": "display_data"
    },
    {
     "name": "stdout",
     "output_type": "stream",
     "text": [
      "Коэффициенты при Нелдера-Мида. A = 10.0000, alpha = 0.5000, beta = 1.5000\n",
      "Конечный лосс при Нелдера-Мида: 2.7255168294568585e-12\n",
      "\n",
      "Шум есть:\n"
     ]
    },
    {
     "data": {
      "image/png": "[encoded data removed]",
      "text/plain": [
       "<Figure size 432x288 with 1 Axes>"
      ]
     },
     "metadata": {
      "needs_background": "light"
     },
     "output_type": "display_data"
    },
    {
     "name": "stdout",
     "output_type": "stream",
     "text": [
      "Коэффициенты при Нелдера-Мида. A = 9.8446, alpha = 0.5177, beta = 1.5085\n",
      "Конечный лосс при Нелдера-Мида: 1.0321737813830685\n"
     ]
    }
   ],
   "source": [
    "print(\"Шума нет:\")\n",
    "NM_min(Q_true)\n",
    "print(\"\")\n",
    "print(\"Шум есть:\")\n",
    "NM_min(Q_true_noise)"
   ]
  },
  {
   "cell_type": "markdown",
   "metadata": {},
   "source": [
    "Как видно, алгоритм сошелся и это хорошо"
   ]
  },
  {
   "cell_type": "markdown",
   "metadata": {},
   "source": [
    "### Методы первого порядка\n",
    "#### Градиентый спуск\n",
    "Градиентый спуск - один из основных базовых методов. Основан на свойстве градиента указвать в сторону наибольшего возрастания функциию Алгоритм гораздо проще, чем у предыдущего метода. Очередное приближение вычисляется через градиент в предудущей точке:\n",
    "\n",
    "\n",
    "$\\theta_{i+1} = \\theta_{i} - \\eta \\nabla_\\theta J( \\theta_{i})$\n",
    "\n",
    "Для инициализации нужна точка начального приближения и параметр $\\eta$ - learning rate или скорость обучения."
   ]
  },
  {
   "cell_type": "code",
   "execution_count": 9,
   "metadata": {},
   "outputs": [],
   "source": [
    "# Метод градиентого спуска.\n",
    "\n",
    "# Произвоная функции Кобба-Дугласа\n",
    "def Q_grad(A,alpha,beta):\n",
    "    return np.array([(L**alpha)*(K**beta),\n",
    "                     np.log(L)*(L**alpha)*A*(K**beta),\n",
    "                     np.log(K)*(K**beta)*A*(L**alpha)]).T\n",
    "\n",
    "# Произвоная квадратичного критерия\n",
    "def loss_grad(A,alpha,beta,Q_):\n",
    "    return 2/N * Q_grad(A,alpha,beta).T.dot(Q(A,alpha,beta) - Q_)\n",
    "\n",
    "# Градиентный спуск\n",
    "def gradient_descent(Q_,A_init,alpha_init,beta_init,iters = 100,learning_rate = 0.01):\n",
    "    A_d = A_init\n",
    "    alpha_d = alpha_init\n",
    "    beta_d = beta_init\n",
    "    loss = []\n",
    "   \n",
    "    for i in range(iters):\n",
    "        da_d = -learning_rate * loss_grad(A_d,alpha_d,beta_d,Q_)           \n",
    "        A_d = A_d + da_d[0]\n",
    "        alpha_d = alpha_d + da_d[1]\n",
    "        beta_d = beta_d + da_d[2]        \n",
    "        loss.append(loss_(A_d,alpha_d,beta_d,Q_))             \n",
    "    \n",
    "    plt.plot(range(iters),loss,label=f\"Лосс при гр. спуске (learning_rate={learning_rate})\")\n",
    "    plt.grid()\n",
    "    plt.xlabel(\"Итерации\")\n",
    "    plt.ylabel(\"Лосс\")\n",
    "    plt.legend()\n",
    "    plt.show()\n",
    "    print(f\"Коэффициенты при гр. спуске. A = {A_d:.{4}f}, alpha = {alpha_d:.{4}f}, beta = {beta_d:.{4}f}\")\n",
    "    print(f\"Конечный лосс при гр. спуске: {loss_(A_d,alpha_d,beta_d,Q_)}\")\n",
    "    print(f\"Конечный градиент при гр. спуске:\", loss_grad(A_d,alpha_d,beta_d,Q_))"
   ]
  },
  {
   "cell_type": "markdown",
   "metadata": {},
   "source": [
    "Результаты:"
   ]
  },
  {
   "cell_type": "code",
   "execution_count": 14,
   "metadata": {},
   "outputs": [
    {
     "name": "stdout",
     "output_type": "stream",
     "text": [
      "Шума нет:\n"
     ]
    },
    {
     "data": {
      "image/png": "[encoded data removed]",
      "text/plain": [
       "<Figure size 432x288 with 1 Axes>"
      ]
     },
     "metadata": {
      "needs_background": "light"
     },
     "output_type": "display_data"
    },
    {
     "name": "stdout",
     "output_type": "stream",
     "text": [
      "Коэффициенты при гр. спуске. A = 9.9984, alpha = 0.5001, beta = 1.5001\n",
      "Конечный лосс при гр. спуске: 3.469395227848095e-06\n",
      "Конечный градиент при гр. спуске: [-0.00424961  0.00034441  0.0002504 ]\n",
      "\n",
      "Шум есть:\n"
     ]
    },
    {
     "data": {
      "image/png": "[encoded data removed]",
      "text/plain": [
       "<Figure size 432x288 with 1 Axes>"
      ]
     },
     "metadata": {
      "needs_background": "light"
     },
     "output_type": "display_data"
    },
    {
     "name": "stdout",
     "output_type": "stream",
     "text": [
      "Коэффициенты при гр. спуске. A = 9.8434, alpha = 0.5178, beta = 1.5086\n",
      "Конечный лосс при гр. спуске: 1.03217564068248\n",
      "Конечный градиент при гр. спуске: [-0.00315305  0.00025838  0.00018847]\n"
     ]
    }
   ],
   "source": [
    "print(\"Шума нет:\")\n",
    "gradient_descent(Q_true,A_init = 9,alpha_init = 1,beta_init = 1,iters = 8000,learning_rate = 0.0003)\n",
    "print(\"\")\n",
    "print(\"Шум есть:\")\n",
    "gradient_descent(Q_true_noise,A_init = 9,alpha_init = 1,beta_init = 1,iters = 8000,learning_rate = 0.0003)"
   ]
  },
  {
   "cell_type": "markdown",
   "metadata": {},
   "source": [
    "В данном случае градиентный спуск работает тяжело, приходится долго подбирать параметры learning rate и начальное приближение. Количество итераций очень значительно."
   ]
  },
  {
   "cell_type": "markdown",
   "metadata": {},
   "source": [
    "#### Нелинейный МНК\n",
    "Как известно, в случае линейной функции параметры МНК вычисляются как $\\theta = (X^TX)^{-1}X^Ty$.\n",
    "В нашем случае мы имеем нелинейную функцию $f(\\theta)$. Идея метода нелинейного МНК в следующем: на каждой итерации функция $f(\\theta)$ каждого i-того измерения раскладывается в ряд Тейлора до линейной части в точке $\\theta_i$. И линейная часть используется в линейном МНК. Таким образом. получаем:\n",
    "\\begin{equation}\n",
    "f_i(\\theta) = f_i(\\theta_i) + \\nabla_\\theta f_i( \\theta_i)(\\theta - \\theta_i)\n",
    "\\end{equation}\n",
    "\n",
    "Объедения градиенты каждого i-того измерения в матрицу $\\nabla_\\theta f$, получаем алгоритм обновления параметров:\n",
    "\\begin{equation}\n",
    "\\theta_{i+1} = \\theta_{i} - (\\nabla_\\theta f^T\\nabla_\\theta f)^{-1}\\nabla_\\theta f^T(f( \\theta_{i}) - f_{true})\n",
    "\\end{equation}"
   ]
  },
  {
   "cell_type": "markdown",
   "metadata": {},
   "source": [
    "Реализуем:"
   ]
  },
  {
   "cell_type": "code",
   "execution_count": 15,
   "metadata": {},
   "outputs": [],
   "source": [
    "def grad_mnk(A,alpha,beta,Q_):\n",
    "    X_inv = np.linalg.inv(Q_grad(A,alpha,beta).T @ Q_grad(A,alpha,beta) + np.eye(3) * 1e-1)\n",
    "    return X_inv @ Q_grad(A,alpha,beta).T @ (Q(A,alpha,beta) - Q_)\n",
    "\n",
    "def nonLMNK(Q_,A_init,alpha_init,beta_init,iters):\n",
    "        \n",
    "    A_m = A_init\n",
    "    alpha_m = alpha_init\n",
    "    beta_m = beta_init\n",
    " \n",
    "    loss_m = []\n",
    "    for i in range(iters):\n",
    "        da_m = -grad_mnk(A_m,alpha_m,beta_m,Q_)\n",
    "               \n",
    "        A_m = A_m + da_m[0]\n",
    "        alpha_m = alpha_m + da_m[1]\n",
    "        beta_m = beta_m + da_m[2]\n",
    "        \n",
    "        loss_m.append(loss_(A_m,alpha_m,beta_m,Q_))        \n",
    "    \n",
    "    plt.plot(range(iters),loss_m,label=\"Лосс при нелинейном МНК\")\n",
    "    plt.grid()\n",
    "    plt.xlabel(\"Итерации\")\n",
    "    plt.ylabel(\"Лосс\")\n",
    "    plt.legend()\n",
    "    plt.show()\n",
    "    print(f\"Коэффициенты при нелинейном МНК. A = {A_m:.{4}f}, alpha = {alpha_m:.{4}f}, beta = {beta_m:.{4}f}\")\n",
    "    print(f\"Конечный лосс при нелинейном МНК: {loss_(A_m,alpha_m,beta_m,Q_)}\")\n",
    "    print(f\"Конечный градиент при нелинейном МНК:\", loss_grad(A_m,alpha_m,beta_m,Q_))"
   ]
  },
  {
   "cell_type": "code",
   "execution_count": 17,
   "metadata": {},
   "outputs": [
    {
     "name": "stdout",
     "output_type": "stream",
     "text": [
      "Шума нет:\n"
     ]
    },
    {
     "data": {
      "image/png": "[encoded data removed]",
      "text/plain": [
       "<Figure size 432x288 with 1 Axes>"
      ]
     },
     "metadata": {
      "needs_background": "light"
     },
     "output_type": "display_data"
    },
    {
     "name": "stdout",
     "output_type": "stream",
     "text": [
      "Коэффициенты при нелинейном МНК. A = 10.0000, alpha = 0.5000, beta = 1.5000\n",
      "Конечный лосс при нелинейном МНК: 6.430504395695689e-17\n",
      "Конечный градиент при нелинейном МНК: [-1.84757452e-08  3.36811363e-10 -4.49072478e-10]\n",
      "\n",
      "Шум есть:\n"
     ]
    },
    {
     "data": {
      "image/png": "[encoded data removed]",
      "text/plain": [
       "<Figure size 432x288 with 1 Axes>"
      ]
     },
     "metadata": {
      "needs_background": "light"
     },
     "output_type": "display_data"
    },
    {
     "name": "stdout",
     "output_type": "stream",
     "text": [
      "Коэффициенты при нелинейном МНК. A = 9.8446, alpha = 0.5177, beta = 1.5085\n",
      "Конечный лосс при нелинейном МНК: 1.0321737813782947\n",
      "Конечный градиент при нелинейном МНК: [-2.93625551e-08 -2.34243657e-08  1.43037362e-06]\n"
     ]
    }
   ],
   "source": [
    "print(\"Шума нет:\")\n",
    "nonLMNK(Q_true,A_init = 15,alpha_init = 4,beta_init = 4,iters = 10)\n",
    "print(\"\")\n",
    "print(\"Шум есть:\")\n",
    "nonLMNK(Q_true_noise,A_init = 15,alpha_init = 4,beta_init = 4,iters = 10)"
   ]
  },
  {
   "cell_type": "markdown",
   "metadata": {},
   "source": [
    "Как видно, этот метод при более плохих начальных условиях сходится значительно быстрее. Такая ситуация типична к градиентонму спуску и нелинейному МНК.\n",
    "\n",
    "Отметим, что нелинейный МНК это обобщение градиентого спуска, где вместо одного числа learning rate фигурирует неотрицательно определенная матрица, которая вычисляется оптимально с точки зрения касательного пространства, именно поэтому он так хорошо (до определенного рода) может решать задачу оптимизации."
   ]
  },
  {
   "cell_type": "markdown",
   "metadata": {},
   "source": [
    "### Методы второго порядка. Метод Ньютона-Рафсона\n",
    "Раскладывая оптимизируемую функцию до второго порядка и применяя метод Ньютона для поиска нулей, получаем метод Ньютона-Рафсона. Алгоритм обновления выглядит следующим образом:\n",
    "\\begin{equation}\n",
    "\\theta_{i+1} = \\theta_{i} - H(\\theta_{i})^{-1} \\nabla_\\theta J( \\theta_{i})\n",
    "\\end{equation}\n",
    "здесь $H(\\theta_{i})$ - матрица Гессе.\n",
    "\n",
    "Реализуем:"
   ]
  },
  {
   "cell_type": "code",
   "execution_count": 18,
   "metadata": {},
   "outputs": [],
   "source": [
    "def Q_Hess(A,alpha,beta):\n",
    "    return np.array([[np.zeros_like(L),np.log(L)*(L**alpha)*(K**beta),np.log(K)*(K**beta)*(L**alpha)],\n",
    "          [np.log(L)*(L**alpha)*(K**beta),(np.log(L))**2*(L**alpha)*A*(K**beta),np.log(K)*np.log(L)*(K**beta)*A*(L**alpha)],\n",
    "          [np.log(K)*(K**beta)*(L**alpha),np.log(K)*np.log(L)*(K**beta)*A*(L**alpha),np.log(K)**2*(K**beta)*A*(L**alpha)]]).T\n",
    "\n",
    "def loss_Hess(A,alpha,beta,Q_):\n",
    "    return 2/N * (Q_Hess(A,alpha,beta).T.dot(Q(A,alpha,beta) - Q_) + Q_grad(A,alpha,beta).T.dot(Q_grad(A,alpha,beta)))"
   ]
  },
  {
   "cell_type": "code",
   "execution_count": 19,
   "metadata": {},
   "outputs": [],
   "source": [
    "def NR_min(Q_,A_init,alpha_init,beta_init,iters,LR = 0.1):\n",
    "        \n",
    "    A_m = A_init\n",
    "    alpha_m = alpha_init\n",
    "    beta_m = beta_init\n",
    " \n",
    "    loss_m = []\n",
    "    for i in range(iters):\n",
    "        da_m = -1*np.linalg.inv(loss_Hess(A_m,alpha_m,beta_m,Q_) +  np.eye(3) * 1e-5) @ loss_grad(A_m,alpha_m,beta_m,Q_)\n",
    "               \n",
    "        A_m = A_m + da_m[0]\n",
    "        alpha_m = alpha_m + da_m[1]\n",
    "        beta_m = beta_m + da_m[2]\n",
    "        \n",
    "        loss_m.append(loss_(A_m,alpha_m,beta_m,Q_))        \n",
    "    \n",
    "    plt.plot(range(iters),loss_m,label=\"Лосс при нелинейном МНК\")\n",
    "    plt.grid()\n",
    "    plt.xlabel(\"Итерации\")\n",
    "    plt.ylabel(\"Лосс\")\n",
    "    plt.legend()\n",
    "    plt.show()\n",
    "    print(f\"Коэффициенты при методе Ньютона-Рафсона. A = {A_m:.{4}f}, alpha = {alpha_m:.{4}f}, beta = {beta_m:.{4}f}\")\n",
    "    print(f\"Конечный лосс при методе Ньютона-Рафсона: {loss_(A_m,alpha_m,beta_m,Q_)}\")\n",
    "    print(f\"Конечный градиент при методе Ньютона-Рафсона:\", loss_grad(A_m,alpha_m,beta_m,Q_))"
   ]
  },
  {
   "cell_type": "code",
   "execution_count": 21,
   "metadata": {},
   "outputs": [
    {
     "name": "stdout",
     "output_type": "stream",
     "text": [
      "Шума нет:\n"
     ]
    },
    {
     "data": {
      "image/png": "[encoded data removed]",
      "text/plain": [
       "<Figure size 432x288 with 1 Axes>"
      ]
     },
     "metadata": {
      "needs_background": "light"
     },
     "output_type": "display_data"
    },
    {
     "name": "stdout",
     "output_type": "stream",
     "text": [
      "Коэффициенты при методе Ньютона-Рафсона. A = 10.0000, alpha = 0.5000, beta = 1.5000\n",
      "Конечный лосс при методе Ньютона-Рафсона: 1.69700978918946e-18\n",
      "Конечный градиент при методе Ньютона-Рафсона: [-6.01416440e-09 -1.37282682e-08 -3.49097399e-08]\n",
      "\n",
      "Шум есть:\n"
     ]
    },
    {
     "data": {
      "image/png": "[encoded data removed]",
      "text/plain": [
       "<Figure size 432x288 with 1 Axes>"
      ]
     },
     "metadata": {
      "needs_background": "light"
     },
     "output_type": "display_data"
    },
    {
     "name": "stdout",
     "output_type": "stream",
     "text": [
      "Коэффициенты при методе Ньютона-Рафсона. A = 9.8440, alpha = 0.5178, beta = 1.5086\n",
      "Конечный лосс при методе Ньютона-Рафсона: 1.032174390614573\n",
      "Конечный градиент при методе Ньютона-Рафсона: [-0.00409214 -0.0103641  -0.02628357]\n"
     ]
    }
   ],
   "source": [
    "print(\"Шума нет:\")\n",
    "NR_min(Q_true,A_init = 11,alpha_init = 1,beta_init = 1,iters = 10)\n",
    "print(\"\")\n",
    "print(\"Шум есть:\")\n",
    "NR_min(Q_true_noise,A_init = 11,alpha_init = 1,beta_init = 1,iters = 10)"
   ]
  },
  {
   "cell_type": "markdown",
   "metadata": {},
   "source": [
    "Метод Ньютона-Рафсона является мощным, но очень капризным. В нашем случае он довольно быстро сошелся к решению, однако при других начальных приближениях он ведет себя совершенно по-разному"
   ]
  },
  {
   "cell_type": "markdown",
   "metadata": {},
   "source": [
    "## Часть 2. Два метода в глубом обучении"
   ]
  },
  {
   "cell_type": "markdown",
   "metadata": {},
   "source": [
    "В глубоком обучении используются в основном разновидности градиентных спусков. Оно и понятно - вычислять матрицы вторых производных и тем более брать обратные матрицы при нескольких миллионах параметров сишком дорого. Поэтому часто используются следующие две разновидности градиентного спуска:\n",
    "1. Метод Нестерова\n",
    "2. Метод Адама\n",
    "*Примечание*. Методов значительно больше, в том числе и тех, которые часто используются. Но многие из них имеют схожие идеи.\n",
    "\n",
    "### Метод Нестерова.\n",
    "Использует понятие импульса. Сама по себе идея методов с накоплением импульса до очевидности проста: «Если мы некоторое время движемся в определённом направлении, то, вероятно, нам следует туда двигаться некоторое время и в будущем». Для этого нужно уметь обращаться к недавней истории изменений каждого параметра. Можно хранить последние $n$ экземпляров $\\Delta \\theta$ и на каждом шаге по-честному считать среднее, но такой подход занимает слишком много памяти. К счастью, нам и не нужно точное среднее, а лишь оценку, поэтому воспользуемся экспоненциальным скользящим средним.\n",
    "\n",
    "$v_t = \\gamma v_{t-1} + \\eta \\nabla_\\theta J( \\theta)$\n",
    "\n",
    "$\\theta = \\theta - v_t$\n",
    "\n",
    "Чем меньше $\\gamma$, тем больше алгоритм ведёт себя как обычный SGD.\n",
    "\n",
    "Простое накопление импульса уже даёт хороший результат, но Нестеров идёт дальше и применяет хорошо известную в вычислительной математике идею: заглядывание вперёд по вектору обновления. Раз уж мы всё равно собираемся сместиться на $\\gamma v_{t-1}$, то давайте посчитаем градиент функции потерь не в точке $\\theta$, а в $\\theta - \\gamma v_{t-1}$. Отсюда:\n",
    "\n",
    "$v_t = \\gamma v_{t-1} + \\eta \\nabla_\\theta J( \\theta - \\gamma v_{t-1} )$\n",
    "\n",
    "$\\theta = \\theta - v_t$\n",
    "\n",
    "Такое изменение позволяет быстрее «катиться», если в стороне, куда мы направляемся, производная увеличивается, и медленнее, если наоборот.\n",
    "\n",
    "### Метод Адам.\n",
    "**Adam** - adaptive moment estimation, ещё один оптимизационный алгоритм. Он сочетает в себе и идею накопления движения и идею более слабого обновления весов для типичных признаков:\n",
    "\n",
    "$m_t = \\beta_1 m_{t-1} + (1 - \\beta_1) g_t$\n",
    "\n",
    "От Нестерова Adam отличается тем, что мы накапливаем не $\\Delta \\theta$, а значения градиента, хотя это чисто косметическое изменение. Кроме того, мы хотим знать, как часто градиент изменяется. Авторы алгоритма предложили для этого оценивать среднюю нецентрированную дисперсию:\n",
    "\n",
    "$v_t = \\beta_2 v_{t-1} + (1 - \\beta_2) g_t^2$\n",
    "\n",
    "\n",
    "Важный момент состоит в начальной калибровке $m_t$ и $v_t$: если задать нулевое начальное значение, то они будут долго накапливаться, особенно при большом окне накопления ($0 \\ll \\beta_1 < 1$, $0 \\ll \\beta_2 < 1$), а какие-то изначальные значения — это ещё два гиперпараметра. Никто не хочет ещё два гиперпараметра, так что мы искусственно увеличиваем $m_t$ и $v_t$ на первых шагах (примерно $0 < t < 10$ для $m_t$ и $0 < t < 1000$ для $v_t$)\n",
    "\n",
    "$\\hat{m}_t = \\frac{m_t}{1 - \\beta^t_1}$\n",
    "$\\hat{v}_t = \\frac{v_t}{1 - \\beta^t_2}$\n",
    "\n",
    "В итоге, правило обновления:\n",
    "\n",
    "$\\theta_{t+1} = \\theta_{t} - \\dfrac{\\eta}{\\sqrt{\\hat{v}_t + \\epsilon}} \\hat{m}_t$\n"
   ]
  },
  {
   "cell_type": "markdown",
   "metadata": {},
   "source": [
    "В отличие от Части 1 мы не будем релизовывать руками эти методы, а воспользуемся библиотекой Keras\n",
    "\n",
    "Мы решим типичную задачу обучения на MNIST - датасет рукописных цифр."
   ]
  },
  {
   "cell_type": "code",
   "execution_count": 22,
   "metadata": {},
   "outputs": [],
   "source": [
    "# Подготовка данных\n",
    "def load_data(path='mnist.npz'):    \n",
    "    with np.load(path, allow_pickle=True) as f:\n",
    "        x_train, y_train = f['x_train'], f['y_train']\n",
    "        x_test, y_test = f['x_test'], f['y_test']\n",
    "    return (x_train, y_train), (x_test, y_test)\n",
    "\n",
    "(x_train,y_train),(x_test,y_test) = load_data()\n",
    "batch_size, img_rows, img_cols = 64,28,28\n",
    "x_train = x_train.reshape(x_train.shape[0],img_rows,img_cols,1)\n",
    "x_test = x_test.reshape(x_test.shape[0],img_rows,img_cols,1)\n",
    "input_shape = (img_rows,img_cols,1)\n",
    "from keras.utils import np_utils\n",
    "x_train = x_train.astype(\"float32\")/255.0\n",
    "x_test = x_test.astype(\"float32\")/255.0\n",
    "\n",
    "y_train = np_utils.to_categorical(y_train,10)\n",
    "y_test = np_utils.to_categorical(y_test,10)"
   ]
  },
  {
   "cell_type": "code",
   "execution_count": 23,
   "metadata": {},
   "outputs": [],
   "source": [
    "# Глубокая сверточная сеть:\n",
    "def model_CNN():\n",
    "\n",
    "    model = Sequential()\n",
    "    model.add(Conv2D(32,kernel_size=(5,5),padding='same',input_shape=input_shape))\n",
    "    model.add(Activation(\"relu\"))\n",
    "    model.add(MaxPooling2D(pool_size=(2,2),strides=(2,2),padding=\"same\"))\n",
    "\n",
    "    model.add(Conv2D(64,kernel_size=(5,5),padding='same'))\n",
    "    model.add(Activation(\"relu\"))\n",
    "    model.add(MaxPooling2D(pool_size=(2,2),strides=(2,2),padding=\"same\"))\n",
    "\n",
    "    model.add(Flatten())\n",
    "    model.add(Dense(1024))\n",
    "    model.add(Activation(\"relu\"))\n",
    "    model.add(Dropout(0.5))\n",
    "\n",
    "    model.add(Dense(10))\n",
    "    model.add(Activation(\"softmax\"))\n",
    "    return model"
   ]
  },
  {
   "cell_type": "markdown",
   "metadata": {},
   "source": [
    "Обучение с Нестеровым"
   ]
  },
  {
   "cell_type": "code",
   "execution_count": 24,
   "metadata": {},
   "outputs": [],
   "source": [
    "nesterov = keras.optimizers.SGD(learning_rate=0.01, momentum=0.1, nesterov=True)"
   ]
  },
  {
   "cell_type": "code",
   "execution_count": 25,
   "metadata": {},
   "outputs": [
    {
     "name": "stdout",
     "output_type": "stream",
     "text": [
      "Train on 60000 samples, validate on 10000 samples\n",
      "Epoch 1/10\n",
      "60000/60000 [==============================] - 83s 1ms/step - loss: 0.6502 - accuracy: 0.8039 - val_loss: 0.2076 - val_accuracy: 0.9391\n",
      "Epoch 2/10\n",
      "60000/60000 [==============================] - 82s 1ms/step - loss: 0.1912 - accuracy: 0.9419 - val_loss: 0.1160 - val_accuracy: 0.9635\n",
      "Epoch 3/10\n",
      "60000/60000 [==============================] - 82s 1ms/step - loss: 0.1328 - accuracy: 0.9597 - val_loss: 0.0946 - val_accuracy: 0.9691\n",
      "Epoch 4/10\n",
      "60000/60000 [==============================] - 83s 1ms/step - loss: 0.1050 - accuracy: 0.9675 - val_loss: 0.0725 - val_accuracy: 0.9770\n",
      "Epoch 5/10\n",
      "60000/60000 [==============================] - 81s 1ms/step - loss: 0.0889 - accuracy: 0.9733 - val_loss: 0.0592 - val_accuracy: 0.9807\n",
      "Epoch 6/10\n",
      "60000/60000 [==============================] - 80s 1ms/step - loss: 0.0780 - accuracy: 0.9759 - val_loss: 0.0530 - val_accuracy: 0.9816\n",
      "Epoch 7/10\n",
      "60000/60000 [==============================] - 82s 1ms/step - loss: 0.0690 - accuracy: 0.9783 - val_loss: 0.0489 - val_accuracy: 0.9841\n",
      "Epoch 8/10\n",
      "60000/60000 [==============================] - 82s 1ms/step - loss: 0.0646 - accuracy: 0.9805 - val_loss: 0.0435 - val_accuracy: 0.9859\n",
      "Epoch 9/10\n",
      "60000/60000 [==============================] - 82s 1ms/step - loss: 0.0580 - accuracy: 0.9819 - val_loss: 0.0411 - val_accuracy: 0.9858\n",
      "Epoch 10/10\n",
      "60000/60000 [==============================] - 82s 1ms/step - loss: 0.0533 - accuracy: 0.9837 - val_loss: 0.0395 - val_accuracy: 0.9882\n"
     ]
    },
    {
     "data": {
      "text/plain": [
       "<keras.callbacks.callbacks.History at 0x19b581c9648>"
      ]
     },
     "execution_count": 25,
     "metadata": {},
     "output_type": "execute_result"
    }
   ],
   "source": [
    "model = model_CNN()\n",
    "model.compile(loss='categorical_crossentropy',optimizer=nesterov,metrics=['accuracy'])\n",
    "model.fit(x_train,y_train,batch_size=batch_size,epochs=10,verbose=1,validation_data=(x_test,y_test))"
   ]
  },
  {
   "cell_type": "markdown",
   "metadata": {},
   "source": [
    "Обучение Adam\n"
   ]
  },
  {
   "cell_type": "code",
   "execution_count": 26,
   "metadata": {},
   "outputs": [
    {
     "name": "stdout",
     "output_type": "stream",
     "text": [
      "Train on 60000 samples, validate on 10000 samples\n",
      "Epoch 1/10\n",
      "60000/60000 [==============================] - 89s 1ms/step - loss: 0.1255 - accuracy: 0.9611 - val_loss: 0.0343 - val_accuracy: 0.9887\n",
      "Epoch 2/10\n",
      "60000/60000 [==============================] - 87s 1ms/step - loss: 0.0438 - accuracy: 0.9861 - val_loss: 0.0272 - val_accuracy: 0.9900\n",
      "Epoch 3/10\n",
      "60000/60000 [==============================] - 86s 1ms/step - loss: 0.0300 - accuracy: 0.9907 - val_loss: 0.0310 - val_accuracy: 0.9905\n",
      "Epoch 4/10\n",
      "60000/60000 [==============================] - 88s 1ms/step - loss: 0.0235 - accuracy: 0.9928 - val_loss: 0.0215 - val_accuracy: 0.9933\n",
      "Epoch 5/10\n",
      "60000/60000 [==============================] - 88s 1ms/step - loss: 0.0182 - accuracy: 0.9940 - val_loss: 0.0214 - val_accuracy: 0.9932\n",
      "Epoch 6/10\n",
      "60000/60000 [==============================] - 89s 1ms/step - loss: 0.0156 - accuracy: 0.9949 - val_loss: 0.0264 - val_accuracy: 0.9921\n",
      "Epoch 7/10\n",
      "60000/60000 [==============================] - 88s 1ms/step - loss: 0.0134 - accuracy: 0.9957 - val_loss: 0.0307 - val_accuracy: 0.9923\n",
      "Epoch 8/10\n",
      "60000/60000 [==============================] - 88s 1ms/step - loss: 0.0128 - accuracy: 0.9959 - val_loss: 0.0263 - val_accuracy: 0.9919\n",
      "Epoch 9/10\n",
      "60000/60000 [==============================] - 88s 1ms/step - loss: 0.0104 - accuracy: 0.9966 - val_loss: 0.0344 - val_accuracy: 0.9909\n",
      "Epoch 10/10\n",
      "60000/60000 [==============================] - 87s 1ms/step - loss: 0.0095 - accuracy: 0.9971 - val_loss: 0.0309 - val_accuracy: 0.9923\n"
     ]
    },
    {
     "data": {
      "text/plain": [
       "<keras.callbacks.callbacks.History at 0x19b56475448>"
      ]
     },
     "execution_count": 26,
     "metadata": {},
     "output_type": "execute_result"
    }
   ],
   "source": [
    "model = model_CNN()\n",
    "model.compile(loss='categorical_crossentropy',optimizer='adam',metrics=['accuracy'])\n",
    "model.fit(x_train,y_train,batch_size=batch_size,epochs=10,verbose=1,validation_data=(x_test,y_test))"
   ]
  },
  {
   "cell_type": "markdown",
   "metadata": {},
   "source": [
    "Как видно, оба метода являются хорошими методами оптимизации (особенно для нашей скромной задачи)"
   ]
  },
  {
   "cell_type": "code",
   "execution_count": null,
   "metadata": {},
   "outputs": [],
   "source": []
  }
 ],
 "metadata": {
  "kernelspec": {
   "display_name": "Python 3",
   "language": "python",
   "name": "python3"
  },
  "language_info": {
   "codemirror_mode": {
    "name": "ipython",
    "version": 3
   },
   "file_extension": ".py",
   "mimetype": "text/x-python",
   "name": "python",
   "nbconvert_exporter": "python",
   "pygments_lexer": "ipython3",
   "version": "3.7.4"
  }
 },
 "nbformat": 4,
 "nbformat_minor": 2
}
